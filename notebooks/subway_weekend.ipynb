{
 "cells": [
  {
   "cell_type": "code",
   "execution_count": 1,
   "metadata": {},
   "outputs": [
    {
     "name": "stderr",
     "output_type": "stream",
     "text": [
      "c:\\Users\\Morgan\\anaconda3\\lib\\site-packages\\scipy\\__init__.py:146: UserWarning: A NumPy version >=1.16.5 and <1.23.0 is required for this version of SciPy (detected version 1.23.3\n",
      "  warnings.warn(f\"A NumPy version >={np_minversion} and <{np_maxversion}\"\n"
     ]
    }
   ],
   "source": [
    "from sklearn.model_selection import train_test_split, KFold\n",
    "from sklearn.pipeline import Pipeline\n",
    "from sklearn.neighbors import KNeighborsRegressor\n",
    "from sklearn.preprocessing import PolynomialFeatures\n",
    "from sklearn.linear_model import LinearRegression\n",
    "import numpy as np\n",
    "import pandas as pd\n",
    "import seaborn as sns\n",
    "from scipy import stats\n",
    "import matplotlib.pyplot as plt\n",
    "%matplotlib inline\n",
    "\n",
    "\n",
    "plt.style.use('ggplot')"
   ]
  },
  {
   "cell_type": "code",
   "execution_count": 3,
   "metadata": {},
   "outputs": [
    {
     "data": {
      "text/html": [
       "<div>\n",
       "<style scoped>\n",
       "    .dataframe tbody tr th:only-of-type {\n",
       "        vertical-align: middle;\n",
       "    }\n",
       "\n",
       "    .dataframe tbody tr th {\n",
       "        vertical-align: top;\n",
       "    }\n",
       "\n",
       "    .dataframe thead th {\n",
       "        text-align: right;\n",
       "    }\n",
       "</style>\n",
       "<table border=\"1\" class=\"dataframe\">\n",
       "  <thead>\n",
       "    <tr style=\"text-align: right;\">\n",
       "      <th></th>\n",
       "      <th>Station (alphabetical by borough)</th>\n",
       "      <th>Unnamed: 1</th>\n",
       "      <th>Boro</th>\n",
       "      <th>2014</th>\n",
       "      <th>2015</th>\n",
       "      <th>2016</th>\n",
       "      <th>2017</th>\n",
       "      <th>2018</th>\n",
       "      <th>2019</th>\n",
       "      <th>2018-2019 Change</th>\n",
       "      <th>Unnamed: 10</th>\n",
       "      <th>2019 Rank</th>\n",
       "    </tr>\n",
       "  </thead>\n",
       "  <tbody>\n",
       "    <tr>\n",
       "      <th>0</th>\n",
       "      <td>The Bronx</td>\n",
       "      <td>NaN</td>\n",
       "      <td>NaN</td>\n",
       "      <td>NaN</td>\n",
       "      <td>NaN</td>\n",
       "      <td>NaN</td>\n",
       "      <td>NaN</td>\n",
       "      <td>NaN</td>\n",
       "      <td>NaN</td>\n",
       "      <td>NaN</td>\n",
       "      <td>NaN</td>\n",
       "      <td>NaN</td>\n",
       "    </tr>\n",
       "    <tr>\n",
       "      <th>1</th>\n",
       "      <td>138 St-Grand Concourse (4,5)</td>\n",
       "      <td>1.0</td>\n",
       "      <td>Bx</td>\n",
       "      <td>3,017</td>\n",
       "      <td>3,136</td>\n",
       "      <td>3,123</td>\n",
       "      <td>2,793</td>\n",
       "      <td>2,557</td>\n",
       "      <td>3,537</td>\n",
       "      <td>980</td>\n",
       "      <td>38.30%</td>\n",
       "      <td>337.0</td>\n",
       "    </tr>\n",
       "    <tr>\n",
       "      <th>2</th>\n",
       "      <td>149 St-Grand Concourse (2,4,5)</td>\n",
       "      <td>NaN</td>\n",
       "      <td>Bx</td>\n",
       "      <td>15,326</td>\n",
       "      <td>13,683</td>\n",
       "      <td>12,797</td>\n",
       "      <td>12,623</td>\n",
       "      <td>11,873</td>\n",
       "      <td>11,647</td>\n",
       "      <td>-226</td>\n",
       "      <td>-1.90%</td>\n",
       "      <td>148.0</td>\n",
       "    </tr>\n",
       "    <tr>\n",
       "      <th>3</th>\n",
       "      <td>161 St-Yankee Stadium (B,D,4)</td>\n",
       "      <td>NaN</td>\n",
       "      <td>Bx</td>\n",
       "      <td>36,176</td>\n",
       "      <td>36,969</td>\n",
       "      <td>35,171</td>\n",
       "      <td>33,398</td>\n",
       "      <td>32,173</td>\n",
       "      <td>31,627</td>\n",
       "      <td>-546</td>\n",
       "      <td>-1.70%</td>\n",
       "      <td>29.0</td>\n",
       "    </tr>\n",
       "    <tr>\n",
       "      <th>4</th>\n",
       "      <td>167 St (4)</td>\n",
       "      <td>NaN</td>\n",
       "      <td>Bx</td>\n",
       "      <td>10,417</td>\n",
       "      <td>11,942</td>\n",
       "      <td>11,579</td>\n",
       "      <td>9,981</td>\n",
       "      <td>9,822</td>\n",
       "      <td>8,986</td>\n",
       "      <td>-836</td>\n",
       "      <td>-8.50%</td>\n",
       "      <td>178.0</td>\n",
       "    </tr>\n",
       "  </tbody>\n",
       "</table>\n",
       "</div>"
      ],
      "text/plain": [
       "  Station (alphabetical by borough)  Unnamed: 1 Boro    2014    2015    2016  \\\n",
       "0                         The Bronx         NaN  NaN     NaN     NaN     NaN   \n",
       "1      138 St-Grand Concourse (4,5)         1.0   Bx   3,017   3,136   3,123   \n",
       "2    149 St-Grand Concourse (2,4,5)         NaN   Bx  15,326  13,683  12,797   \n",
       "3     161 St-Yankee Stadium (B,D,4)         NaN   Bx  36,176  36,969  35,171   \n",
       "4                        167 St (4)         NaN   Bx  10,417  11,942  11,579   \n",
       "\n",
       "     2017    2018    2019 2018-2019 Change Unnamed: 10  2019 Rank  \n",
       "0     NaN     NaN     NaN              NaN         NaN        NaN  \n",
       "1   2,793   2,557   3,537              980      38.30%      337.0  \n",
       "2  12,623  11,873  11,647             -226      -1.90%      148.0  \n",
       "3  33,398  32,173  31,627             -546      -1.70%       29.0  \n",
       "4   9,981   9,822   8,986             -836      -8.50%      178.0  "
      ]
     },
     "execution_count": 3,
     "metadata": {},
     "output_type": "execute_result"
    }
   ],
   "source": [
    "subway_df_weekend = pd.read_csv('../data/2014-2019_weekend Subway Tables_UL.csv')\n",
    "subway_df_weekend.head(5)"
   ]
  },
  {
   "cell_type": "code",
   "execution_count": 6,
   "metadata": {},
   "outputs": [
    {
     "data": {
      "text/plain": [
       "Brooklyn     157\n",
       "Manhattan    121\n",
       "Queens        78\n",
       "The Bronx     68\n",
       "Name: Boro, dtype: int64"
      ]
     },
     "execution_count": 6,
     "metadata": {},
     "output_type": "execute_result"
    }
   ],
   "source": [
    "# Replace Boro code with borough\n",
    "subway_df_weekend['Boro'].replace('Bx', 'The Bronx', inplace=True)\n",
    "subway_df_weekend['Boro'].replace('B', 'Brooklyn', inplace=True)\n",
    "subway_df_weekend['Boro'].replace('M', 'Manhattan', inplace=True)\n",
    "subway_df_weekend['Boro'].replace('Q', 'Queens', inplace=True)\n",
    "subway_df_weekend['Boro'].value_counts()\n"
   ]
  },
  {
   "cell_type": "code",
   "execution_count": 7,
   "metadata": {},
   "outputs": [
    {
     "data": {
      "text/html": [
       "<div>\n",
       "<style scoped>\n",
       "    .dataframe tbody tr th:only-of-type {\n",
       "        vertical-align: middle;\n",
       "    }\n",
       "\n",
       "    .dataframe tbody tr th {\n",
       "        vertical-align: top;\n",
       "    }\n",
       "\n",
       "    .dataframe thead th {\n",
       "        text-align: right;\n",
       "    }\n",
       "</style>\n",
       "<table border=\"1\" class=\"dataframe\">\n",
       "  <thead>\n",
       "    <tr style=\"text-align: right;\">\n",
       "      <th></th>\n",
       "      <th>Station (alphabetical by borough)</th>\n",
       "      <th>Unnamed: 1</th>\n",
       "      <th>Boro</th>\n",
       "      <th>2014</th>\n",
       "      <th>2015</th>\n",
       "      <th>2016</th>\n",
       "      <th>2017</th>\n",
       "      <th>2018</th>\n",
       "      <th>2019</th>\n",
       "      <th>2018-2019 Change</th>\n",
       "      <th>Unnamed: 10</th>\n",
       "      <th>2019 Rank</th>\n",
       "    </tr>\n",
       "  </thead>\n",
       "  <tbody>\n",
       "    <tr>\n",
       "      <th>1</th>\n",
       "      <td>138 St-Grand Concourse (4,5)</td>\n",
       "      <td>1.0</td>\n",
       "      <td>The Bronx</td>\n",
       "      <td>3,017</td>\n",
       "      <td>3,136</td>\n",
       "      <td>3,123</td>\n",
       "      <td>2,793</td>\n",
       "      <td>2,557</td>\n",
       "      <td>3,537</td>\n",
       "      <td>980</td>\n",
       "      <td>38.30%</td>\n",
       "      <td>337.0</td>\n",
       "    </tr>\n",
       "    <tr>\n",
       "      <th>2</th>\n",
       "      <td>149 St-Grand Concourse (2,4,5)</td>\n",
       "      <td>NaN</td>\n",
       "      <td>The Bronx</td>\n",
       "      <td>15,326</td>\n",
       "      <td>13,683</td>\n",
       "      <td>12,797</td>\n",
       "      <td>12,623</td>\n",
       "      <td>11,873</td>\n",
       "      <td>11,647</td>\n",
       "      <td>-226</td>\n",
       "      <td>-1.90%</td>\n",
       "      <td>148.0</td>\n",
       "    </tr>\n",
       "    <tr>\n",
       "      <th>3</th>\n",
       "      <td>161 St-Yankee Stadium (B,D,4)</td>\n",
       "      <td>NaN</td>\n",
       "      <td>The Bronx</td>\n",
       "      <td>36,176</td>\n",
       "      <td>36,969</td>\n",
       "      <td>35,171</td>\n",
       "      <td>33,398</td>\n",
       "      <td>32,173</td>\n",
       "      <td>31,627</td>\n",
       "      <td>-546</td>\n",
       "      <td>-1.70%</td>\n",
       "      <td>29.0</td>\n",
       "    </tr>\n",
       "    <tr>\n",
       "      <th>4</th>\n",
       "      <td>167 St (4)</td>\n",
       "      <td>NaN</td>\n",
       "      <td>The Bronx</td>\n",
       "      <td>10,417</td>\n",
       "      <td>11,942</td>\n",
       "      <td>11,579</td>\n",
       "      <td>9,981</td>\n",
       "      <td>9,822</td>\n",
       "      <td>8,986</td>\n",
       "      <td>-836</td>\n",
       "      <td>-8.50%</td>\n",
       "      <td>178.0</td>\n",
       "    </tr>\n",
       "    <tr>\n",
       "      <th>5</th>\n",
       "      <td>167 St (B,D)</td>\n",
       "      <td>2.0</td>\n",
       "      <td>The Bronx</td>\n",
       "      <td>13,220</td>\n",
       "      <td>12,890</td>\n",
       "      <td>12,775</td>\n",
       "      <td>12,682</td>\n",
       "      <td>7,529</td>\n",
       "      <td>10,299</td>\n",
       "      <td>2,770</td>\n",
       "      <td>36.80%</td>\n",
       "      <td>163.0</td>\n",
       "    </tr>\n",
       "  </tbody>\n",
       "</table>\n",
       "</div>"
      ],
      "text/plain": [
       "  Station (alphabetical by borough)  Unnamed: 1       Boro    2014    2015  \\\n",
       "1      138 St-Grand Concourse (4,5)         1.0  The Bronx   3,017   3,136   \n",
       "2    149 St-Grand Concourse (2,4,5)         NaN  The Bronx  15,326  13,683   \n",
       "3     161 St-Yankee Stadium (B,D,4)         NaN  The Bronx  36,176  36,969   \n",
       "4                        167 St (4)         NaN  The Bronx  10,417  11,942   \n",
       "5                      167 St (B,D)         2.0  The Bronx  13,220  12,890   \n",
       "\n",
       "     2016    2017    2018    2019 2018-2019 Change Unnamed: 10  2019 Rank  \n",
       "1   3,123   2,793   2,557   3,537              980      38.30%      337.0  \n",
       "2  12,797  12,623  11,873  11,647             -226      -1.90%      148.0  \n",
       "3  35,171  33,398  32,173  31,627             -546      -1.70%       29.0  \n",
       "4  11,579   9,981   9,822   8,986             -836      -8.50%      178.0  \n",
       "5  12,775  12,682   7,529  10,299            2,770      36.80%      163.0  "
      ]
     },
     "execution_count": 7,
     "metadata": {},
     "output_type": "execute_result"
    }
   ],
   "source": [
    "# Delete rows with no value\n",
    "subway_df_weekend.dropna(axis=0, thresh=3, inplace=True)\n",
    "subway_df_weekend.head(5)"
   ]
  },
  {
   "cell_type": "code",
   "execution_count": 9,
   "metadata": {},
   "outputs": [
    {
     "data": {
      "text/plain": [
       "430"
      ]
     },
     "execution_count": 9,
     "metadata": {},
     "output_type": "execute_result"
    }
   ],
   "source": [
    "# Do I have the same stops on both the weekend subway dataset and the week day dataset?\n",
    "subway_df_weekend['Station (alphabetical by borough)'].count()"
   ]
  },
  {
   "cell_type": "code",
   "execution_count": 21,
   "metadata": {},
   "outputs": [
    {
     "data": {
      "text/html": [
       "<div>\n",
       "<style scoped>\n",
       "    .dataframe tbody tr th:only-of-type {\n",
       "        vertical-align: middle;\n",
       "    }\n",
       "\n",
       "    .dataframe tbody tr th {\n",
       "        vertical-align: top;\n",
       "    }\n",
       "\n",
       "    .dataframe thead th {\n",
       "        text-align: right;\n",
       "    }\n",
       "</style>\n",
       "<table border=\"1\" class=\"dataframe\">\n",
       "  <thead>\n",
       "    <tr style=\"text-align: right;\">\n",
       "      <th></th>\n",
       "      <th>Station (alphabetical by borough)</th>\n",
       "      <th>Unnamed: 1</th>\n",
       "      <th>Boro</th>\n",
       "      <th>2014</th>\n",
       "      <th>2015</th>\n",
       "      <th>2016</th>\n",
       "      <th>2017</th>\n",
       "      <th>2018</th>\n",
       "      <th>2019</th>\n",
       "      <th>2018-2019 Change</th>\n",
       "      <th>Unnamed: 10</th>\n",
       "      <th>2019 Rank</th>\n",
       "    </tr>\n",
       "  </thead>\n",
       "  <tbody>\n",
       "  </tbody>\n",
       "</table>\n",
       "</div>"
      ],
      "text/plain": [
       "Empty DataFrame\n",
       "Columns: [Station (alphabetical by borough), Unnamed: 1, Boro, 2014, 2015, 2016, 2017, 2018, 2019, 2018-2019 Change, Unnamed: 10, 2019 Rank]\n",
       "Index: []"
      ]
     },
     "execution_count": 21,
     "metadata": {},
     "output_type": "execute_result"
    }
   ],
   "source": [
    "subway_df_weekend.loc['2014': '2018-2019'].astype('float64')"
   ]
  },
  {
   "cell_type": "code",
   "execution_count": 22,
   "metadata": {},
   "outputs": [
    {
     "name": "stdout",
     "output_type": "stream",
     "text": [
      "<class 'pandas.core.frame.DataFrame'>\n",
      "Int64Index: 430 entries, 1 to 434\n",
      "Data columns (total 12 columns):\n",
      " #   Column                             Non-Null Count  Dtype  \n",
      "---  ------                             --------------  -----  \n",
      " 0   Station (alphabetical by borough)  430 non-null    object \n",
      " 1   Unnamed: 1                         76 non-null     float64\n",
      " 2   Boro                               424 non-null    object \n",
      " 3   2014                               426 non-null    object \n",
      " 4   2015                               427 non-null    object \n",
      " 5   2016                               427 non-null    object \n",
      " 6   2017                               430 non-null    object \n",
      " 7   2018                               430 non-null    object \n",
      " 8   2019                               429 non-null    object \n",
      " 9   2018-2019 Change                   430 non-null    object \n",
      " 10  Unnamed: 10                        429 non-null    object \n",
      " 11  2019 Rank                          424 non-null    float64\n",
      "dtypes: float64(2), object(10)\n",
      "memory usage: 59.8+ KB\n"
     ]
    }
   ],
   "source": [
    "subway_df_weekend.info()"
   ]
  },
  {
   "cell_type": "code",
   "execution_count": 26,
   "metadata": {},
   "outputs": [
    {
     "data": {
      "text/plain": [
       "0            NaN\n",
       "1         3017.0\n",
       "2        15326.0\n",
       "3        36176.0\n",
       "4        10417.0\n",
       "         ...    \n",
       "432     873260.0\n",
       "433        176.0\n",
       "434    5985905.0\n",
       "435          NaN\n",
       "436          NaN\n",
       "Name: 2014, Length: 437, dtype: float64"
      ]
     },
     "execution_count": 26,
     "metadata": {},
     "output_type": "execute_result"
    }
   ],
   "source": [
    "subway_df['2014'].str.replace(',', '').astype('float64')"
   ]
  },
  {
   "cell_type": "code",
   "execution_count": 15,
   "metadata": {},
   "outputs": [
    {
     "name": "stdout",
     "output_type": "stream",
     "text": [
      "<class 'pandas.core.frame.DataFrame'>\n",
      "RangeIndex: 437 entries, 0 to 436\n",
      "Data columns (total 12 columns):\n",
      " #   Column                             Non-Null Count  Dtype  \n",
      "---  ------                             --------------  -----  \n",
      " 0   Station (alphabetical by borough)  435 non-null    object \n",
      " 1   Unnamed: 1                         76 non-null     float64\n",
      " 2   Boro                               424 non-null    object \n",
      " 3   2014                               426 non-null    object \n",
      " 4   2015                               427 non-null    object \n",
      " 5   2016                               427 non-null    object \n",
      " 6   2017                               430 non-null    object \n",
      " 7   2018                               430 non-null    object \n",
      " 8   2019                               429 non-null    object \n",
      " 9   2018-2019 Change                   430 non-null    object \n",
      " 10  Unnamed: 10                        429 non-null    object \n",
      " 11  2019 Rank                          424 non-null    float64\n",
      "dtypes: float64(2), object(10)\n",
      "memory usage: 41.1+ KB\n"
     ]
    }
   ],
   "source": [
    "subway_df.info()"
   ]
  },
  {
   "cell_type": "code",
   "execution_count": 13,
   "metadata": {},
   "outputs": [
    {
     "data": {
      "text/plain": [
       "0            NaN\n",
       "1          3,017\n",
       "2         15,326\n",
       "3         36,176\n",
       "4         10,417\n",
       "         ...    \n",
       "432      873,260\n",
       "433          176\n",
       "434    5,985,905\n",
       "435          NaN\n",
       "436          NaN\n",
       "Name: 2014, Length: 437, dtype: object"
      ]
     },
     "execution_count": 13,
     "metadata": {},
     "output_type": "execute_result"
    }
   ],
   "source": [
    "# subway_df_weekend['2014']\n",
    "subway_df['2014']"
   ]
  }
 ],
 "metadata": {
  "kernelspec": {
   "display_name": "Python 3.9.12 ('base')",
   "language": "python",
   "name": "python3"
  },
  "language_info": {
   "codemirror_mode": {
    "name": "ipython",
    "version": 3
   },
   "file_extension": ".py",
   "mimetype": "text/x-python",
   "name": "python",
   "nbconvert_exporter": "python",
   "pygments_lexer": "ipython3",
   "version": "3.9.12"
  },
  "orig_nbformat": 4,
  "vscode": {
   "interpreter": {
    "hash": "0a0b87b4e473b0fb0acc8b521d1c658df87a8dbcdbfd857070f00979dee8f91c"
   }
  }
 },
 "nbformat": 4,
 "nbformat_minor": 2
}
